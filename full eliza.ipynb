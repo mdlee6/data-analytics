{
 "cells": [
  {
   "cell_type": "code",
   "execution_count": null,
   "metadata": {},
   "outputs": [],
   "source": [
    "# INT ELIZA\n",
    "import random\n",
    "\n",
    "print(\"Good day! what is your problem?\")\n",
    "prompt = \"Enter your response here or Q to quit: \"\n",
    "\n",
    "while True: \n",
    "    response = input(prompt)\n",
    "    \n",
    "    if response.lower().strip() == 'q':\n",
    "        break\n",
    "    if response.lower().strip() == \"i am feeling great\":\n",
    "        break\n",
    "    \n",
    "    else:       \n",
    "        res = response.lower().split()\n",
    "        newlist = []\n",
    "        \n",
    "        for words in res: \n",
    "            if words == 'i': \n",
    "                word = words.replace(\"i\", 'you')\n",
    "                newlist.append(word)\n",
    "            elif words == 'me':\n",
    "                word = words.replace(\"me\", 'you')\n",
    "                newlist.append(word)\n",
    "            elif words == 'my': \n",
    "                word = words.replace('my', 'your')\n",
    "                newlist.append(word)\n",
    "            elif words == 'am':\n",
    "                word = words.replace('am', 'are')\n",
    "                newlist.append(word)\n",
    "            else:     \n",
    "                newlist.append(words)\n",
    "        ls = \" \".join(newlist)\n",
    "        \n",
    "        hedges = [\"Please tell me more.\",\n",
    "                  \"Many of my patients tell me the same thing.\", \n",
    "                  \"It is getting late, maybe we had better quit\"]\n",
    "        qualifiers = [\"Why do you say that \", \n",
    "                      \"You seem to think that \", \n",
    "                      \"So, you are concerned that \"]\n",
    "        h = random.choice(hedges)\n",
    "        q = (f\"{random.choice(qualifiers)}{ls}?\")\n",
    "        lh = [q, h]\n",
    "        \n",
    "        print(random.choice(lh))"
   ]
  },
  {
   "cell_type": "code",
   "execution_count": null,
   "metadata": {},
   "outputs": [],
   "source": []
  }
 ],
 "metadata": {
  "kernelspec": {
   "display_name": "Python 3",
   "language": "python",
   "name": "python3"
  },
  "language_info": {
   "codemirror_mode": {
    "name": "ipython",
    "version": 3
   },
   "file_extension": ".py",
   "mimetype": "text/x-python",
   "name": "python",
   "nbconvert_exporter": "python",
   "pygments_lexer": "ipython3",
   "version": "3.7.3"
  }
 },
 "nbformat": 4,
 "nbformat_minor": 2
}
