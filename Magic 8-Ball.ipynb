{
 "cells": [
  {
   "cell_type": "code",
   "execution_count": null,
   "metadata": {},
   "outputs": [],
   "source": [
    "import random"
   ]
  },
  {
   "cell_type": "code",
   "execution_count": null,
   "metadata": {},
   "outputs": [],
   "source": [
    "response_list = ['It is certain', \n",
    "                 'It is decidedly so', \n",
    "                 'Without a doubt', \n",
    "                 'Yes definitely',\n",
    "                 'You may rely on it',\n",
    "                 'As I see it, yes',\n",
    "                 'Most likely',\n",
    "                 'Outlook good', \n",
    "                 \"Yes\", \n",
    "                 \"Signs point to yes\", \n",
    "                 'Reply hazy try again', \n",
    "                 'Ask again later', \n",
    "                 'Better not tell you now', \n",
    "                 'Cannot predict now', \n",
    "                 'Concentrate and ask again', \n",
    "                 \"Don't count on it\", \n",
    "                 \"My reply is no.\",\n",
    "                 \"My sources say no\", \n",
    "                 \"Outlook not so good\", \n",
    "                 \"Very doubtful\"\n",
    "                ]"
   ]
  },
  {
   "cell_type": "code",
   "execution_count": null,
   "metadata": {},
   "outputs": [],
   "source": [
    "while True: \n",
    "    question = input()\n",
    "    \n",
    "    if question.lower().strip() == 'n':\n",
    "        print(\"Thank you for playing!\")\n",
    "        break\n",
    "    elif question.lower().strip() == 'y': \n",
    "        print('what is your question?')\n",
    "    else: \n",
    "        print(\"You asked: \"+ question)\n",
    "        r = random.choice(response_list)\n",
    "        print(\"Magic 8-Ball says: \" + r)\n",
    "        \n",
    "        print (\"Do you have another question for the Magic 8-Ball? (y/n)\")\n",
    "   "
   ]
  },
  {
   "cell_type": "code",
   "execution_count": null,
   "metadata": {},
   "outputs": [],
   "source": []
  }
 ],
 "metadata": {
  "kernelspec": {
   "display_name": "Python 3",
   "language": "python",
   "name": "python3"
  },
  "language_info": {
   "codemirror_mode": {
    "name": "ipython",
    "version": 3
   },
   "file_extension": ".py",
   "mimetype": "text/x-python",
   "name": "python",
   "nbconvert_exporter": "python",
   "pygments_lexer": "ipython3",
   "version": "3.7.3"
  }
 },
 "nbformat": 4,
 "nbformat_minor": 2
}
