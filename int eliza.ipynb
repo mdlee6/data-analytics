{
 "cells": [
  {
   "cell_type": "markdown",
   "metadata": {},
   "source": [
    "Replacements: \n",
    "- i => you\n",
    "- me => you\n",
    "- my => your\n",
    "- am => are\n",
    "\n",
    "repeat edited sentence"
   ]
  },
  {
   "cell_type": "code",
   "execution_count": null,
   "metadata": {},
   "outputs": [],
   "source": [
    "print(\"Good day! what is your problem?\")\n",
    "prompt = \"Enter your response here or Q to quit: \"\n",
    "\n",
    "while True: \n",
    "    response = input(prompt)\n",
    "    \n",
    "    if response.lower().strip() == 'q':\n",
    "        break\n",
    "    if response.lower().strip() == \"i am feeling great\":\n",
    "        break\n",
    "    \n",
    "    else: \n",
    "        a = ('i')\n",
    "        b = ('me') \n",
    "        c = ('my') \n",
    "        d = ('am')\n",
    "        pronouns = ('i', 'me', 'my', 'you')\n",
    "         \n",
    "                \n",
    "        \n",
    "      #  if str(pronouns) in response.lower(): \n",
    "      #      response = response.replace(a,'you')\n",
    "      #      response = response.replace(b,'you')\n",
    "      #      response = response.replace(c,'your')\n",
    "      #      response = response.replace(d,'are')\n",
    "      #      print(response)\n",
    "        \n",
    "    "
   ]
  },
  {
   "cell_type": "code",
   "execution_count": null,
   "metadata": {},
   "outputs": [
    {
     "name": "stdout",
     "output_type": "stream",
     "text": [
      "Good day! what is your problem?\n",
      "Enter your response here or Q to quit: i am tired\n",
      "you are tired\n"
     ]
    }
   ],
   "source": [
    "print(\"Good day! what is your problem?\")\n",
    "prompt = \"Enter your response here or Q to quit: \"\n",
    "\n",
    "#flag = True\n",
    "\n",
    "while True: \n",
    "    response = input(prompt)\n",
    "    \n",
    "    if response.lower().strip() == 'q':\n",
    "        break\n",
    "    if response.lower().strip() == \"i am feeling great\":\n",
    "        break\n",
    "    \n",
    "    else: \n",
    "        res = response.lower().split()\n",
    "        newlist = []\n",
    "        for words in res: \n",
    "            \n",
    "            if words == 'i': \n",
    "                word = words.replace(\"i\", 'you')\n",
    "                newlist.append(word)\n",
    "            elif words == 'me':\n",
    "                word = words.replace(\"me\", 'you')\n",
    "                newlist.append(word)\n",
    "            elif words == 'my': \n",
    "                word = words.replace('my', 'your')\n",
    "                newlist.append(word)\n",
    "            elif words == 'am':\n",
    "                word = words.replace('am', 'are')\n",
    "                newlist.append(word)\n",
    "            else:     \n",
    "                newlist.append(words)\n",
    "         \n",
    "        ls = \" \".join(newlist)\n",
    "        print(ls)\n",
    "        \n",
    "        #flag = False\n",
    "        \n",
    "    "
   ]
  },
  {
   "cell_type": "code",
   "execution_count": null,
   "metadata": {},
   "outputs": [],
   "source": [
    "\"\"\"\n",
    ".find() -> index\n",
    ".replace()\n",
    "in keyword\n",
    ".split()  -> breaks a string into a list\n",
    "\n",
    "---\n"
   ]
  }
 ],
 "metadata": {
  "kernelspec": {
   "display_name": "Python 3",
   "language": "python",
   "name": "python3"
  },
  "language_info": {
   "codemirror_mode": {
    "name": "ipython",
    "version": 3
   },
   "file_extension": ".py",
   "mimetype": "text/x-python",
   "name": "python",
   "nbconvert_exporter": "python",
   "pygments_lexer": "ipython3",
   "version": "3.7.3"
  }
 },
 "nbformat": 4,
 "nbformat_minor": 2
}
