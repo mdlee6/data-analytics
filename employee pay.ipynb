{
 "cells": [
  {
   "cell_type": "code",
   "execution_count": 1,
   "metadata": {},
   "outputs": [],
   "source": [
    "employees = [\n",
    "    {'name': 'Mary', 'pay': 15, 'hours' : 40},\n",
    "    {'name': 'John',  'pay': 22, 'hours': 25}, \n",
    "    {'name': 'Bob', 'pay': 35, 'hours': 4}, \n",
    "    {'name' : 'Mel', 'pay': 43, 'hours': 62}, \n",
    "    {'name' : 'Jen', 'pay': 17, 'hours': 33},\n",
    "    {'name' : 'Sue', 'pay': 29, 'hours': 45},\n",
    "    {'name' : 'Ken', 'pay': 40, 'hours': 36}, \n",
    "    {'name' : 'Dave', 'pay': 20, 'hours': 17}, \n",
    "    {'name' : 'Beth', 'pay': 37, 'hours': 37}, \n",
    "    {'name' : 'Ray', 'pay': 16.5, 'hours': 80}\n",
    "            ]\n",
    "\n"
   ]
  },
  {
   "cell_type": "code",
   "execution_count": 2,
   "metadata": {},
   "outputs": [
    {
     "name": "stdout",
     "output_type": "stream",
     "text": [
      "Mary\n",
      "600\n",
      "John\n",
      "550\n",
      "Bob\n",
      "140\n",
      "Mel\n",
      "3139.0\n",
      "Jen\n",
      "561\n",
      "Sue\n",
      "1377.5\n",
      "Ken\n",
      "1440\n",
      "Dave\n",
      "340\n",
      "Beth\n",
      "1369\n",
      "Ray\n",
      "1650.0\n"
     ]
    }
   ],
   "source": [
    "for employee in employees: \n",
    "    print(employee['name'])\n",
    "    \n",
    "    if employee['hours'] <= 40:\n",
    "        total_pay = employee['pay']*employee['hours']\n",
    "        print(total_pay)\n",
    "   \n",
    "    elif employee['hours'] > 40: \n",
    "        ot_hours = employee['hours']- 40             # overtime  hours\n",
    "        ot_rate = employee['pay']* 1.5               # overtime rate \n",
    "        ot_pay = ot_hours * ot_rate\n",
    "        \n",
    "        base_pay = employee['pay']* 40            \n",
    "        \n",
    "        total_pay = base_pay + ot_pay\n",
    "        print(total_pay)"
   ]
  },
  {
   "cell_type": "code",
   "execution_count": null,
   "metadata": {},
   "outputs": [],
   "source": []
  }
 ],
 "metadata": {
  "kernelspec": {
   "display_name": "Python 3",
   "language": "python",
   "name": "python3"
  },
  "language_info": {
   "codemirror_mode": {
    "name": "ipython",
    "version": 3
   },
   "file_extension": ".py",
   "mimetype": "text/x-python",
   "name": "python",
   "nbconvert_exporter": "python",
   "pygments_lexer": "ipython3",
   "version": "3.7.3"
  }
 },
 "nbformat": 4,
 "nbformat_minor": 2
}
