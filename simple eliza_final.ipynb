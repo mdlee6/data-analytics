{
 "cells": [
  {
   "cell_type": "code",
   "execution_count": 1,
   "metadata": {},
   "outputs": [
    {
     "name": "stdout",
     "output_type": "stream",
     "text": [
      "Good Day, What is your problem?\n",
      "Enter your response here or Q to quit: asdf\n",
      "asdf\n",
      "Enter your response here or Q to quit: q\n"
     ]
    }
   ],
   "source": [
    "print(\"Good Day, What is your problem?\")\n",
    "prompt = \"Enter your response here or Q to quit: \"\n",
    "\n",
    "while True: \n",
    "    \n",
    "    response = input(prompt)\n",
    "    \n",
    "    if response.lower() == 'q': \n",
    "        break\n",
    "    if response.lower() == 'i am feeling great':\n",
    "        break\n",
    "    else: \n",
    "        print(response)"
   ]
  },
  {
   "cell_type": "code",
   "execution_count": null,
   "metadata": {},
   "outputs": [],
   "source": []
  }
 ],
 "metadata": {
  "kernelspec": {
   "display_name": "Python 3",
   "language": "python",
   "name": "python3"
  },
  "language_info": {
   "codemirror_mode": {
    "name": "ipython",
    "version": 3
   },
   "file_extension": ".py",
   "mimetype": "text/x-python",
   "name": "python",
   "nbconvert_exporter": "python",
   "pygments_lexer": "ipython3",
   "version": "3.7.3"
  }
 },
 "nbformat": 4,
 "nbformat_minor": 2
}
